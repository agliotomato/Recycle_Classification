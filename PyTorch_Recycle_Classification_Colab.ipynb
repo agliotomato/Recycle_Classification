{
  "nbformat": 4,
  "nbformat_minor": 0,
  "metadata": {
    "colab": {
      "name": "PyTorch_Recycle_Classification_Colab.ipynb",
      "provenance": [],
      "collapsed_sections": [],
      "authorship_tag": "ABX9TyO6mUFvF0UdigKL7Ziqhk11",
      "include_colab_link": true
    },
    "kernelspec": {
      "name": "python3",
      "display_name": "Python 3"
    },
    "accelerator": "GPU"
  },
  "cells": [
    {
      "cell_type": "markdown",
      "metadata": {
        "id": "view-in-github",
        "colab_type": "text"
      },
      "source": [
        "<a href=\"https://colab.research.google.com/github/JinFree/Recycle_Classification_with_PyTorch/blob/main/PyTorch_Recycle_Classification_Colab.ipynb\" target=\"_parent\"><img src=\"https://colab.research.google.com/assets/colab-badge.svg\" alt=\"Open In Colab\"/></a>"
      ]
    },
    {
      "cell_type": "markdown",
      "metadata": {
        "id": "kESNVsD5w93-"
      },
      "source": [
        "우선 훈련을 위한 깃헙 저장소를 다운로드합니다."
      ]
    },
    {
      "cell_type": "code",
      "metadata": {
        "id": "4I97OkyPxB7x"
      },
      "source": [
        "print(\"Download Example Repository\")\n",
        "!git clone https://github.com/JinFree/Recycle_Classification_with_PyTorch"
      ],
      "execution_count": null,
      "outputs": []
    },
    {
      "cell_type": "markdown",
      "metadata": {
        "id": "sHJ7DZs4w47x"
      },
      "source": [
        "그 후 데이터셋을 다운로드합니다.\n",
        "\n",
        "다운로드에 약 7분 정도의 시간이 필요합니다."
      ]
    },
    {
      "cell_type": "code",
      "metadata": {
        "id": "PcYCWnHmcGZ7"
      },
      "source": [
        "print(\"Download Dataset\")\n",
        "!git clone https://github.com/JinFree/Recycle_Classification_Dataset.git\n",
        "!rm -rf ./Recycle_Classification_Dataset/.git"
      ],
      "execution_count": null,
      "outputs": []
    },
    {
      "cell_type": "markdown",
      "metadata": {
        "id": "eXfcVj3vxRJS"
      },
      "source": [
        "훈련을 위한 클래스를 불러옵니다."
      ]
    },
    {
      "cell_type": "code",
      "metadata": {
        "id": "AhzX5PIvslVo"
      },
      "source": [
        "from Recycle_Classification_with_PyTorch.Training_Class import PyTorch_Classification_Training_Class\n",
        "training_class = PyTorch_Classification_Training_Class()"
      ],
      "execution_count": null,
      "outputs": []
    },
    {
      "cell_type": "markdown",
      "metadata": {
        "id": "WcBjqSiuxUta"
      },
      "source": [
        "우선 임의 제작한 네트워크 구조를 활용하여 처음부터 훈련합니다.\n",
        "네트워크 구조는 Model_Class_From_the_Scratch.py 파일을 통해 확인할 수 있습니다."
      ]
    },
    {
      "cell_type": "code",
      "metadata": {
        "id": "2bIvDJJIuL7_"
      },
      "source": [
        "print(\"Learning from scratch\")\n",
        "training_class.prepare_network(True)\n",
        "training_class.training_network(learning_rate = 0.0001, epochs=10, step_size=3, gamma=0.3)"
      ],
      "execution_count": null,
      "outputs": []
    },
    {
      "cell_type": "markdown",
      "metadata": {
        "id": "X8cD2Hr2xk_c"
      },
      "source": [
        "다음은 ImageNet의 천 개 클래스의 백만 장 이미지로 학습한 MobileNetv2 네트워크를 전이학습합니다.\n",
        "MobileNetv2 네트워크의 마지막 레이어의 출력 노드 수를 우리가 구분하고자 하는 클래스 수에 맞게 수정한 후 학습하며, 코드는 Model_Class_Transfer_Learning_MobileNet.py에서 확인할 수 있습니다."
      ]
    },
    {
      "cell_type": "code",
      "metadata": {
        "id": "9HcSYrRhwJUp",
        "outputId": "354a6a45-ff98-45b5-dd90-3127b60f1567",
        "colab": {
          "base_uri": "https://localhost:8080/",
          "height": 162,
          "referenced_widgets": [
            "2422a2b06f8a4d53951094e8675feb05"
          ]
        }
      },
      "source": [
        "print(\"Transfer learning\")\n",
        "training_class.prepare_network(False)\n",
        "training_class.training_network(learning_rate = 0.00001, epochs=5, step_size=3, gamma=0.3)"
      ],
      "execution_count": null,
      "outputs": [
        {
          "metadata": {
            "tags": null
          },
          "name": "stdout",
          "output_type": "stream",
          "text": [
            "Transfer learning\n"
          ]
        },
        {
          "metadata": {
            "tags": null
          },
          "name": "stderr",
          "output_type": "stream",
          "text": [
            "Downloading: \"https://download.pytorch.org/models/mobilenet_v2-b0353104.pth\" to /root/.cache/torch/hub/checkpoints/mobilenet_v2-b0353104.pth\n"
          ]
        },
        {
          "data": {
            "application/vnd.jupyter.widget-view+json": {
              "model_id": "2422a2b06f8a4d53951094e8675feb05",
              "version_major": 2,
              "version_minor": 0
            },
            "text/plain": [
              "  0%|          | 0.00/13.6M [00:00<?, ?B/s]"
            ]
          },
          "metadata": {},
          "output_type": "display_data"
        },
        {
          "metadata": {
            "tags": null
          },
          "name": "stderr",
          "output_type": "stream",
          "text": [
            "100%|██████████| 442/442 [10:27<00:00,  1.42s/it]\n",
            "100%|██████████| 148/148 [03:16<00:00,  1.33s/it]\n"
          ]
        },
        {
          "metadata": {
            "tags": null
          },
          "name": "stdout",
          "output_type": "stream",
          "text": [
            "[1] Test Loss: 0.9039, Accuracy: 88.66%\n",
            "model saved!\n"
          ]
        },
        {
          "output_type": "stream",
          "name": "stderr",
          "text": [
            "  6%|▌         | 26/442 [00:36<08:41,  1.25s/it]"
          ]
        }
      ]
    },
    {
      "cell_type": "markdown",
      "metadata": {
        "id": "yLBv36tWx9z0"
      },
      "source": [
        "모든 학습이 끝나면 label_map.txt와 PyTorch_Training_From_Scratch.pt, PyTorch_Transfer_Learning_MobileNet.pt 파일을 다운로드합니다.\n",
        "\n",
        "이후 Jetson 보드에서 해당 파일로 추론을 수행할 수 있습니다."
      ]
    }
  ]
}